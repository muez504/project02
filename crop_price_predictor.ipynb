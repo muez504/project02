{
 "cells": [
  {
   "cell_type": "code",
   "execution_count": 1,
   "metadata": {},
   "outputs": [],
   "source": [
    "import pandas as pd\n",
    "import numpy as np\n",
    "import seaborn as sns\n",
    "import pyforest"
   ]
  },
  {
   "cell_type": "code",
   "execution_count": 2,
   "metadata": {},
   "outputs": [],
   "source": [
    "data2 = pd.read_csv(\"mydata.csv\")"
   ]
  },
  {
   "cell_type": "code",
   "execution_count": 3,
   "metadata": {},
   "outputs": [
    {
     "data": {
      "text/html": [
       "<div>\n",
       "<style scoped>\n",
       "    .dataframe tbody tr th:only-of-type {\n",
       "        vertical-align: middle;\n",
       "    }\n",
       "\n",
       "    .dataframe tbody tr th {\n",
       "        vertical-align: top;\n",
       "    }\n",
       "\n",
       "    .dataframe thead th {\n",
       "        text-align: right;\n",
       "    }\n",
       "</style>\n",
       "<table border=\"1\" class=\"dataframe\">\n",
       "  <thead>\n",
       "    <tr style=\"text-align: right;\">\n",
       "      <th></th>\n",
       "      <th>Market Place</th>\n",
       "      <th>Crop Variety</th>\n",
       "      <th>Producer Min</th>\n",
       "      <th>Producer Max</th>\n",
       "      <th>Wholesale Min</th>\n",
       "      <th>Wholesale Max</th>\n",
       "      <th>Retail Min</th>\n",
       "      <th>Retail Max</th>\n",
       "      <th>Volume</th>\n",
       "      <th>Collection Date</th>\n",
       "    </tr>\n",
       "  </thead>\n",
       "  <tbody>\n",
       "    <tr>\n",
       "      <th>0</th>\n",
       "      <td>Bahir Dar kebele 04</td>\n",
       "      <td>White Teff (Quintal)</td>\n",
       "      <td>0</td>\n",
       "      <td>0.0</td>\n",
       "      <td>2400</td>\n",
       "      <td>2500</td>\n",
       "      <td>2550.0</td>\n",
       "      <td>2650</td>\n",
       "      <td>Sufficient</td>\n",
       "      <td>2019-05-02</td>\n",
       "    </tr>\n",
       "    <tr>\n",
       "      <th>1</th>\n",
       "      <td>Hawassa</td>\n",
       "      <td>White Teff (Quintal)</td>\n",
       "      <td>0</td>\n",
       "      <td>0.0</td>\n",
       "      <td>2700</td>\n",
       "      <td>2900</td>\n",
       "      <td>2800.0</td>\n",
       "      <td>3000</td>\n",
       "      <td>Under</td>\n",
       "      <td>2019-05-06</td>\n",
       "    </tr>\n",
       "    <tr>\n",
       "      <th>2</th>\n",
       "      <td>Humera</td>\n",
       "      <td>White Teff (Quintal)</td>\n",
       "      <td>0</td>\n",
       "      <td>0.0</td>\n",
       "      <td>2800</td>\n",
       "      <td>2900</td>\n",
       "      <td>0.0</td>\n",
       "      <td>0</td>\n",
       "      <td>Sufficient</td>\n",
       "      <td>2019-05-08</td>\n",
       "    </tr>\n",
       "    <tr>\n",
       "      <th>3</th>\n",
       "      <td>Bahir Dar kebele 04</td>\n",
       "      <td>White Teff (Quintal)</td>\n",
       "      <td>0</td>\n",
       "      <td>0.0</td>\n",
       "      <td>2450</td>\n",
       "      <td>2550</td>\n",
       "      <td>2550.0</td>\n",
       "      <td>2700</td>\n",
       "      <td>Sufficient</td>\n",
       "      <td>2019-05-09</td>\n",
       "    </tr>\n",
       "    <tr>\n",
       "      <th>4</th>\n",
       "      <td>Hawassa</td>\n",
       "      <td>White Teff (Quintal)</td>\n",
       "      <td>0</td>\n",
       "      <td>0.0</td>\n",
       "      <td>2700</td>\n",
       "      <td>2900</td>\n",
       "      <td>2800.0</td>\n",
       "      <td>3000</td>\n",
       "      <td>Under</td>\n",
       "      <td>2019-05-13</td>\n",
       "    </tr>\n",
       "  </tbody>\n",
       "</table>\n",
       "</div>"
      ],
      "text/plain": [
       "          Market Place          Crop Variety  Producer Min  Producer Max   \n",
       "0  Bahir Dar kebele 04  White Teff (Quintal)             0           0.0  \\\n",
       "1             Hawassa   White Teff (Quintal)             0           0.0   \n",
       "2               Humera  White Teff (Quintal)             0           0.0   \n",
       "3  Bahir Dar kebele 04  White Teff (Quintal)             0           0.0   \n",
       "4             Hawassa   White Teff (Quintal)             0           0.0   \n",
       "\n",
       "   Wholesale Min  Wholesale Max  Retail Min  Retail Max      Volume   \n",
       "0           2400           2500      2550.0        2650  Sufficient  \\\n",
       "1           2700           2900      2800.0        3000       Under   \n",
       "2           2800           2900         0.0           0  Sufficient   \n",
       "3           2450           2550      2550.0        2700  Sufficient   \n",
       "4           2700           2900      2800.0        3000       Under   \n",
       "\n",
       "  Collection Date  \n",
       "0      2019-05-02  \n",
       "1      2019-05-06  \n",
       "2      2019-05-08  \n",
       "3      2019-05-09  \n",
       "4      2019-05-13  "
      ]
     },
     "execution_count": 3,
     "metadata": {},
     "output_type": "execute_result"
    }
   ],
   "source": [
    "data2.head()"
   ]
  },
  {
   "cell_type": "code",
   "execution_count": 5,
   "metadata": {},
   "outputs": [
    {
     "name": "stdout",
     "output_type": "stream",
     "text": [
      "<class 'pandas.core.frame.DataFrame'>\n",
      "RangeIndex: 1019 entries, 0 to 1018\n",
      "Data columns (total 10 columns):\n",
      " #   Column           Non-Null Count  Dtype  \n",
      "---  ------           --------------  -----  \n",
      " 0   Market Place     1019 non-null   object \n",
      " 1   Crop Variety     1019 non-null   object \n",
      " 2   Producer Min     1019 non-null   int64  \n",
      " 3   Producer Max     1019 non-null   float64\n",
      " 4   Wholesale Min    1019 non-null   int64  \n",
      " 5   Wholesale Max    1019 non-null   int64  \n",
      " 6   Retail Min       1019 non-null   float64\n",
      " 7   Retail Max       1019 non-null   int64  \n",
      " 8   Volume           1019 non-null   object \n",
      " 9   Collection Date  1019 non-null   object \n",
      "dtypes: float64(2), int64(4), object(4)\n",
      "memory usage: 79.7+ KB\n"
     ]
    }
   ],
   "source": [
    "data2.info()"
   ]
  },
  {
   "cell_type": "code",
   "execution_count": null,
   "metadata": {},
   "outputs": [],
   "source": []
  }
 ],
 "metadata": {
  "kernelspec": {
   "display_name": "venv",
   "language": "python",
   "name": "python3"
  },
  "language_info": {
   "codemirror_mode": {
    "name": "ipython",
    "version": 3
   },
   "file_extension": ".py",
   "mimetype": "text/x-python",
   "name": "python",
   "nbconvert_exporter": "python",
   "pygments_lexer": "ipython3",
   "version": "3.10.7"
  },
  "orig_nbformat": 4
 },
 "nbformat": 4,
 "nbformat_minor": 2
}
